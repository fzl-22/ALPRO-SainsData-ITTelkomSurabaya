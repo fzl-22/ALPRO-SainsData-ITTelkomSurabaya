{
 "cells": [
  {
   "cell_type": "code",
   "execution_count": 2,
   "id": "38049537-288c-43e9-864b-f42e6f1e13a4",
   "metadata": {},
   "outputs": [
    {
     "name": "stdin",
     "output_type": "stream",
     "text": [
      " 100\n",
      " 200\n"
     ]
    },
    {
     "data": {
      "text/plain": [
       "[1, 2, 3, 4, 5, 200, 100, 6, 7, 8, 9, 10]"
      ]
     },
     "execution_count": 2,
     "metadata": {},
     "output_type": "execute_result"
    }
   ],
   "source": [
    "arr = [1,2,3,4,5,6,7,8,9,10]\n",
    "\n",
    "arr.insert(int(len(arr)/2), int(input()))\n",
    "arr.insert(int(len(arr)/2), int(input()))\n",
    "\n",
    "arr"
   ]
  },
  {
   "cell_type": "code",
   "execution_count": 5,
   "id": "5e4fd5d7-9f11-4ddc-8569-28e162f0852e",
   "metadata": {},
   "outputs": [
    {
     "name": "stdout",
     "output_type": "stream",
     "text": [
      "['mangga', 'Cokelat', 'Pisang', 'Apel', 'Jambu']\n"
     ]
    }
   ],
   "source": [
    "iniList = [\"mangga\",\"Jeruk\",\"Pisang\",\"Apel\",\"Jambu\"]\n",
    "\n",
    "iniList[iniList.index(\"Jeruk\")] = \"Cokelat\"\n",
    "print(iniList)"
   ]
  },
  {
   "cell_type": "code",
   "execution_count": 12,
   "id": "abf9e3f5-86ca-4529-ad57-1157b3047b71",
   "metadata": {},
   "outputs": [
    {
     "name": "stdout",
     "output_type": "stream",
     "text": [
      "[1, 2.3, 3, 4, 5, 'l', 'Yayy', True]\n"
     ]
    }
   ],
   "source": [
    "iniListKosong = []\n",
    "\n",
    "iniList = [1, 2.3, 3, 4, 5, \"l\", \"Yayy\", True]\n",
    "print(iniList)"
   ]
  },
  {
   "cell_type": "code",
   "execution_count": 19,
   "id": "e8af9a5e-d7c9-469e-8820-7dde96f16129",
   "metadata": {},
   "outputs": [
    {
     "data": {
      "text/plain": [
       "[2, 4, 6, 8]"
      ]
     },
     "execution_count": 19,
     "metadata": {},
     "output_type": "execute_result"
    }
   ],
   "source": [
    "# Declaration by Constructor\n",
    "iniList = list((1, 2.3, 3, 4, 5, \"l\", \"Yayy\", True)) # Ketika mempunyai array atau tuple\n",
    "\n",
    "# By Looping\n",
    "iniList = []\n",
    "for i in range(1, 10):\n",
    "    iniList.append(i)\n",
    "\n",
    "# By Looping with Condition\n",
    "iniList = []\n",
    "for i in range(1, 10):\n",
    "    if i % 2 == 0:\n",
    "        iniList.append(i)\n",
    "iniList"
   ]
  },
  {
   "cell_type": "code",
   "execution_count": 31,
   "id": "ab2cb632-da11-4d80-bfcb-b0dfd62cb0b9",
   "metadata": {},
   "outputs": [
    {
     "data": {
      "text/plain": [
       "[1.4142135623730951, 2.0, 2.449489742783178, 2.8284271247461903]"
      ]
     },
     "execution_count": 31,
     "metadata": {},
     "output_type": "execute_result"
    }
   ],
   "source": [
    "# By List Comprehension\n",
    "iniList = [i for i in range(1, 10)]\n",
    "\n",
    "# By List Comprehension with Condition\n",
    "iniList = [i for i in range(1, 10) if i % 2 == 0]\n",
    "\n",
    "# By List Comprehension with Index Manipulation\n",
    "iniList = [pow(i, 0.5) for i in range(1, 10) if i % 2 == 0]\n",
    "iniList\n"
   ]
  },
  {
   "cell_type": "code",
   "execution_count": 33,
   "id": "06ec51be-c13f-406b-9bbc-77a41f76c087",
   "metadata": {},
   "outputs": [
    {
     "name": "stdout",
     "output_type": "stream",
     "text": [
      "1\n",
      "satu\n",
      "1.5\n",
      "satu koma lima\n",
      "2\n"
     ]
    }
   ],
   "source": [
    "IniList = [1,\"satu\",1.5,\"satu koma lima\",2]\n",
    "print(IniList[0])\n",
    "print(IniList[1])\n",
    "print(IniList[2])\n",
    "print(IniList[3])\n",
    "print(IniList[4])"
   ]
  },
  {
   "cell_type": "code",
   "execution_count": 37,
   "id": "462b14f1-7edf-4b11-9f51-177dee4714b4",
   "metadata": {},
   "outputs": [
    {
     "name": "stdout",
     "output_type": "stream",
     "text": [
      "[0, 1, 2, 3, 4, 5, 6, 7, 8, 9, 10]\n",
      "[0, 2, 4, 6, 8, 10]\n",
      "[1, 2, 3, 4]\n",
      "[2, 5, 8]\n",
      "[10, 9, 8, 7, 6, 5, 4, 3, 2, 1, 0]\n",
      "[9, 10]\n"
     ]
    }
   ],
   "source": [
    "arrInt = [0, 1, 2, 3, 4, 5, 6, 7, 8,9, 10]\n",
    "\n",
    "print(arrInt[::]) # mengakses setiap elemen dalam list\n",
    "print(arrInt[::2]) # mengakses mulai dari index 0 hingga akhir dengan lompatan 2 index\n",
    "print(arrInt[1:5]) # mengakses setiap elemen dari index 1 hingga index 5\n",
    "print(arrInt[2:9:3]) # mengakses mulai dari index 2 hingga index 9 dengan lompatan 3 index\n",
    "print(arrInt[::-1]) # mengakses mulai dari index 0 hingga akhir dengan lompatan 1 index dari belakang\n",
    "print(arrInt[-2::]) # mengakses mulai dari index 2 dari belakang hingga akhir"
   ]
  },
  {
   "cell_type": "code",
   "execution_count": 38,
   "id": "61ba782c-7dc4-4be0-8d92-4a9d9d00dcaa",
   "metadata": {},
   "outputs": [
    {
     "name": "stdout",
     "output_type": "stream",
     "text": [
      "['a', 'b', 'c', 'd', '1', '2', '3']\n",
      "['a', 2, 'c', 'd', '1', '2', '3']\n"
     ]
    }
   ],
   "source": [
    "IniList = ['a', 'b', 'c', 'd', '1', '2', '3']\n",
    "print(IniList)\n",
    "IniList[1] = 2\n",
    "print(IniList)"
   ]
  },
  {
   "cell_type": "markdown",
   "id": "0f41052b-b7e5-4bdc-ac1b-4a972609bb32",
   "metadata": {},
   "source": [
    "# Function and Method in List`"
   ]
  },
  {
   "cell_type": "code",
   "execution_count": 57,
   "id": "fd13b75b-6c91-45e9-9714-1f53a887de48",
   "metadata": {},
   "outputs": [
    {
     "name": "stdout",
     "output_type": "stream",
     "text": [
      "Sum: 1326.5\n",
      "Min: -3\n",
      "Max: 1027\n",
      "3\n",
      "[-3, 2, 30, 72, 89, 54, 11, 22, -1, 1.5, 1027, 11, 11]\n"
     ]
    }
   ],
   "source": [
    "iniList = [-3, 2, 30, 72, 89, 54, 11, 22, -1, 1.5, 1027, 11, 11]\n",
    "\n",
    "print(\"Sum:\", sum(iniList))\n",
    "print(\"Min:\", min(iniList))\n",
    "print(\"Max:\", max(iniList))\n",
    "# iniList.clear()\n",
    "# print(iniList)\n",
    "print(iniList.count(11))\n",
    "# iniList.sort(reverse=True)\n",
    "iniList.reverse()\n",
    "iniList.reverse()\n",
    "print(iniList)\n"
   ]
  }
 ],
 "metadata": {
  "kernelspec": {
   "display_name": "Python 3 (ipykernel)",
   "language": "python",
   "name": "python3"
  },
  "language_info": {
   "codemirror_mode": {
    "name": "ipython",
    "version": 3
   },
   "file_extension": ".py",
   "mimetype": "text/x-python",
   "name": "python",
   "nbconvert_exporter": "python",
   "pygments_lexer": "ipython3",
   "version": "3.10.8"
  }
 },
 "nbformat": 4,
 "nbformat_minor": 5
}
