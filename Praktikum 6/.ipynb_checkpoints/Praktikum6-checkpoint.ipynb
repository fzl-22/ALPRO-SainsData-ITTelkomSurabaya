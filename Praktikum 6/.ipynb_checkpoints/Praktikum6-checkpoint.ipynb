{
 "cells": [
  {
   "cell_type": "code",
   "execution_count": 7,
   "id": "37426422-6c43-466e-bce9-ac937d2e8855",
   "metadata": {},
   "outputs": [],
   "source": [
    "def pangkat(base, power):\n",
    "    result = base**power\n",
    "    return result"
   ]
  },
  {
   "cell_type": "code",
   "execution_count": 9,
   "id": "38572cb0-6e6b-4e52-91ee-99c2e6906efa",
   "metadata": {},
   "outputs": [
    {
     "name": "stdout",
     "output_type": "stream",
     "text": [
      "Hasil:  25\n"
     ]
    }
   ],
   "source": [
    "print(\"Hasil: \", pangkat(5,2))"
   ]
  },
  {
   "cell_type": "code",
   "execution_count": 13,
   "id": "a548a27b-0cf8-45ad-907b-39bfe954c093",
   "metadata": {},
   "outputs": [
    {
     "name": "stdin",
     "output_type": "stream",
     "text": [
      "Masukkan nilai pertama:  15\n",
      "Masukkan nilai kedua:  16\n",
      "Masukkan nilai ketiga:  18\n"
     ]
    },
    {
     "name": "stdout",
     "output_type": "stream",
     "text": [
      "Mending pulang deck\n"
     ]
    }
   ],
   "source": [
    "def predikatMahasiswa(nilai1, nilai2, nilai3):\n",
    "\trataRata = (nilai1 + nilai2 + nilai3)/3\n",
    "\tif rataRata >= 80 and rataRata <= 100:\n",
    "\t\tprint(\"Selamat, predikat kamu A!\")\n",
    "\telif rataRata >= 60 and rataRata < 80:\n",
    "\t\tprint(\"Predikat kamu B, pertahankan yaa!\")\n",
    "\telif rataRata >= 30 and rataRata < 60:\n",
    "\t\tprint(\"Predikat kamu C, perbaiki ya!\")\n",
    "\telif rataRata >= 0 and rataRata < 30:\n",
    "\t\tprint(\"Mending pulang deck\")\n",
    "\t\t\n",
    "nilaiMhs1 = int(input(\"Masukkan nilai pertama: \"))\n",
    "nilaiMhs2 = int(input(\"Masukkan nilai kedua: \"))\n",
    "nilaiMhs3 = int(input(\"Masukkan nilai ketiga: \"))\n",
    "\n",
    "result = predikatMahasiswa(nilaiMhs1, nilaiMhs2, nilaiMhs3)\n",
    "print(result)"
   ]
  }
 ],
 "metadata": {
  "kernelspec": {
   "display_name": "Python 3 (ipykernel)",
   "language": "python",
   "name": "python3"
  },
  "language_info": {
   "codemirror_mode": {
    "name": "ipython",
    "version": 3
   },
   "file_extension": ".py",
   "mimetype": "text/x-python",
   "name": "python",
   "nbconvert_exporter": "python",
   "pygments_lexer": "ipython3",
   "version": "3.10.8"
  }
 },
 "nbformat": 4,
 "nbformat_minor": 5
}
