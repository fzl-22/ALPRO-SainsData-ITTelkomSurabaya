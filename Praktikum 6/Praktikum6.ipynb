{
 "cells": [
  {
   "cell_type": "code",
   "execution_count": 7,
   "id": "37426422-6c43-466e-bce9-ac937d2e8855",
   "metadata": {},
   "outputs": [],
   "source": [
    "def pangkat(base, power):\n",
    "    result = base**power\n",
    "    return result"
   ]
  },
  {
   "cell_type": "code",
   "execution_count": 9,
   "id": "38572cb0-6e6b-4e52-91ee-99c2e6906efa",
   "metadata": {},
   "outputs": [
    {
     "name": "stdout",
     "output_type": "stream",
     "text": [
      "Hasil:  25\n"
     ]
    }
   ],
   "source": [
    "print(\"Hasil: \", pangkat(5,2))"
   ]
  },
  {
   "cell_type": "code",
   "execution_count": 14,
   "id": "a548a27b-0cf8-45ad-907b-39bfe954c093",
   "metadata": {},
   "outputs": [
    {
     "name": "stdin",
     "output_type": "stream",
     "text": [
      "Masukkan nilai pertama:  14\n",
      "Masukkan nilai kedua:  89\n",
      "Masukkan nilai ketiga:  100\n"
     ]
    },
    {
     "name": "stdout",
     "output_type": "stream",
     "text": [
      "Predikat kamu B, pertahankan yaa!\n",
      "None\n"
     ]
    }
   ],
   "source": [
    "def predikatMahasiswa(nilai1, nilai2, nilai3):\n",
    "\trataRata = (nilai1 + nilai2 + nilai3)/3\n",
    "\tif rataRata >= 80 and rataRata <= 100:\n",
    "\t\tprint(\"Selamat, predikat kamu A!\")\n",
    "\telif rataRata >= 60 and rataRata < 80:\n",
    "\t\tprint(\"Predikat kamu B, pertahankan yaa!\")\n",
    "\telif rataRata >= 30 and rataRata < 60:\n",
    "\t\tprint(\"Predikat kamu C, perbaiki ya!\")\n",
    "\telif rataRata >= 0 and rataRata < 30:\n",
    "\t\tprint(\"Mending pulang deck\")\n",
    "\t\t\n",
    "nilaiMhs1 = int(input(\"Masukkan nilai pertama: \"))\n",
    "nilaiMhs2 = int(input(\"Masukkan nilai kedua: \"))\n",
    "nilaiMhs3 = int(input(\"Masukkan nilai ketiga: \"))\n",
    "\n",
    "result = predikatMahasiswa(nilaiMhs1, nilaiMhs2, nilaiMhs3)"
   ]
  },
  {
   "cell_type": "code",
   "execution_count": 15,
   "id": "2ed21d58-796e-42f7-b7a2-b53252ece8a4",
   "metadata": {},
   "outputs": [
    {
     "name": "stdout",
     "output_type": "stream",
     "text": [
      "=======================\n",
      "Daftar Menu Uncle Muthu\n",
      "=======================\n",
      "1. Teh\n",
      "2. Teh Ice\n",
      "3. Teh Tarik\n",
      "4. Milo Ice\n"
     ]
    }
   ],
   "source": [
    "def menuUncleMuthu():\n",
    "\tprint(\"=======================\")\n",
    "\tprint(\"Daftar Menu Uncle Muthu\")\n",
    "\tprint(\"=======================\")\n",
    "\tprint(\"1. Teh\")\n",
    "\tprint(\"2. Teh Ice\")\n",
    "\tprint(\"3. Teh Tarik\")\n",
    "\tprint(\"4. Milo Ice\")\n",
    "\n",
    "menuUncleMuthu()"
   ]
  },
  {
   "cell_type": "code",
   "execution_count": 21,
   "id": "52942b9d-df80-4482-89d5-d733d5619521",
   "metadata": {},
   "outputs": [
    {
     "name": "stdout",
     "output_type": "stream",
     "text": [
      "2.0\n"
     ]
    }
   ],
   "source": [
    "def jumlahKakiSaya():\n",
    "    result = 4/2\n",
    "    return result\n",
    "\n",
    "print(jumlahKakiSaya())"
   ]
  },
  {
   "cell_type": "code",
   "execution_count": 20,
   "id": "49cdaf29-dcbe-47d3-9e57-ec9444d99d70",
   "metadata": {},
   "outputs": [
    {
     "ename": "SyntaxError",
     "evalue": "positional argument follows keyword argument (3432636621.py, line 9)",
     "output_type": "error",
     "traceback": [
      "\u001b[0;36m  Cell \u001b[0;32mIn[20], line 9\u001b[0;36m\u001b[0m\n\u001b[0;31m    dataDiri(email=\"example@gmail.com\", \"Ahmad Faisal\", 1203210101, kebangsaan=\"Indonesia\")\u001b[0m\n\u001b[0m                                                                                          ^\u001b[0m\n\u001b[0;31mSyntaxError\u001b[0m\u001b[0;31m:\u001b[0m positional argument follows keyword argument\n"
     ]
    }
   ],
   "source": [
    "def dataDiri(nama, nim, email=\"Tidak Diisi\", kebangsaan=\"Sunda Empire\"):\n",
    "\tprint(\"Data Diri:\")\n",
    "\tprint(f\"\\tNama\\t: {nama}\")\n",
    "\tprint(f\"\\tNIM\\t: {nim}\")\n",
    "\tprint(f\"\\tEmail\\t: {email}\")\n",
    "\tprint(f\"\\tKebangsaan: {kebangsaan}\")\n",
    "\tprint()\n",
    "    \n",
    "dataDiri(email=\"example@gmail.com\", \"Ahmad Faisal\", 1203210101, kebangsaan=\"Indonesia\")"
   ]
  },
  {
   "cell_type": "code",
   "execution_count": null,
   "id": "4068284f-14a6-473b-bfa4-804f6e1161b4",
   "metadata": {},
   "outputs": [],
   "source": []
  }
 ],
 "metadata": {
  "kernelspec": {
   "display_name": "Python 3 (ipykernel)",
   "language": "python",
   "name": "python3"
  },
  "language_info": {
   "codemirror_mode": {
    "name": "ipython",
    "version": 3
   },
   "file_extension": ".py",
   "mimetype": "text/x-python",
   "name": "python",
   "nbconvert_exporter": "python",
   "pygments_lexer": "ipython3",
   "version": "3.10.8"
  }
 },
 "nbformat": 4,
 "nbformat_minor": 5
}
