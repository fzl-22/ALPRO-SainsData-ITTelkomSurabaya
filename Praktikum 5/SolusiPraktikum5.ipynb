{
 "cells": [
  {
   "cell_type": "markdown",
   "metadata": {},
   "source": [
    "# Post Test Praktikum 5"
   ]
  },
  {
   "cell_type": "markdown",
   "metadata": {},
   "source": [
    "Pada soal ini, mahasiswa harus menggunakan `break` atau `continue` untuk melakukan optimasi pada program. Apabila bisa menggunakan keduanya, nilai plus hehe."
   ]
  },
  {
   "cell_type": "code",
   "execution_count": 6,
   "metadata": {},
   "outputs": [
    {
     "name": "stdout",
     "output_type": "stream",
     "text": [
      "Yee Kobo sampai kampus! Sisa air minumnya 2 liter.\n"
     ]
    }
   ],
   "source": [
    "N = int(input())\n",
    "M = int(input())\n",
    "\n",
    "M = M - 1\n",
    "for i in range(3, N+1):\n",
    "    if i % 2 == 0: \n",
    "        continue # Apabila langkah Kobo ganjil, tidak usah dicek keprimaannya (sudah pasti bukan prima karena memiliki faktor 2)\n",
    "    isPrime = True\n",
    "    j = 2\n",
    "    while j <= i**(0.5): # kondisi boleh diganti dengan j <= i+1 (opsional)\n",
    "        if i % j == 0:\n",
    "            isPrime = False\n",
    "            break # Apabila ada 1 saja faktor dari i di antara 2 dan akar{i}, maka perulangan dihentikan karena sudah pasti bukan prima\n",
    "        j = j + 1\n",
    "    if isPrime:\n",
    "        M = M - 1\n",
    "\n",
    "if M <= 0:\n",
    "    print(\"Males ah, pengen beli truk!\")\n",
    "else:\n",
    "    print(\"Yee Kobo sampai kampus! Sisa air minumnya {} liter.\".format(M))"
   ]
  },
  {
   "cell_type": "markdown",
   "metadata": {},
   "source": [
    "### Bonus Soal: Pesan Rahasia Anya!\n",
    "Soal ini ada di modul 3"
   ]
  },
  {
   "cell_type": "code",
   "execution_count": 5,
   "metadata": {},
   "outputs": [
    {
     "name": "stdout",
     "output_type": "stream",
     "text": [
      "Males ah, pengen beli kacang!\n"
     ]
    }
   ],
   "source": [
    "kalimat_acak = input(\"Kalimat Acak: \")\n",
    "pesan_rahasia = \"kamu wibu\"\n",
    "\n",
    "huruf_pesan_rahasia = 0\n",
    "for huruf in kalimat_acak:\n",
    "    if huruf == pesan_rahasia[huruf_pesan_rahasia]:\n",
    "        huruf_pesan_rahasia = huruf_pesan_rahasia + 1\n",
    "    if huruf_pesan_rahasia == 9:\n",
    "        break\n",
    "\n",
    "if huruf_pesan_rahasia == 9:\n",
    "    print(\"Yee ada pesan rahasianya!\")\n",
    "else:\n",
    "    print(\"Males ah, pengen beli kacang!\")"
   ]
  }
 ],
 "metadata": {
  "kernelspec": {
   "display_name": "Python 3.10.8 64-bit",
   "language": "python",
   "name": "python3"
  },
  "language_info": {
   "codemirror_mode": {
    "name": "ipython",
    "version": 3
   },
   "file_extension": ".py",
   "mimetype": "text/x-python",
   "name": "python",
   "nbconvert_exporter": "python",
   "pygments_lexer": "ipython3",
   "version": "3.10.8"
  },
  "orig_nbformat": 4,
  "vscode": {
   "interpreter": {
    "hash": "e7370f93d1d0cde622a1f8e1c04877d8463912d04d973331ad4851f04de6915a"
   }
  }
 },
 "nbformat": 4,
 "nbformat_minor": 2
}
