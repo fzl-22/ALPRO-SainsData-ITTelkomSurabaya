{
 "cells": [
  {
   "cell_type": "markdown",
   "metadata": {},
   "source": [
    "# Post Test Praktikum 4"
   ]
  },
  {
   "cell_type": "code",
   "execution_count": 1,
   "metadata": {},
   "outputs": [
    {
     "name": "stdout",
     "output_type": "stream",
     "text": [
      "Lampu Mati\n"
     ]
    }
   ],
   "source": [
    "N = int(input())\n",
    "lampu = False\n",
    "for i in range(1, N+1):\n",
    "    if N % i == 0:\n",
    "        if lampu == False: # Jika lampunya nyala, matikan\n",
    "            lampu = True\n",
    "        else: # Jika lampunya mati, nyalakan\n",
    "            lampu = False\n",
    "            \n",
    "if lampu == True:\n",
    "    print(\"Lampu Menyala\")\n",
    "else:\n",
    "    print(\"Lampu Mati\")"
   ]
  }
 ],
 "metadata": {
  "kernelspec": {
   "display_name": "Python 3.10.8 64-bit",
   "language": "python",
   "name": "python3"
  },
  "language_info": {
   "codemirror_mode": {
    "name": "ipython",
    "version": 3
   },
   "file_extension": ".py",
   "mimetype": "text/x-python",
   "name": "python",
   "nbconvert_exporter": "python",
   "pygments_lexer": "ipython3",
   "version": "3.10.8"
  },
  "orig_nbformat": 4,
  "vscode": {
   "interpreter": {
    "hash": "e7370f93d1d0cde622a1f8e1c04877d8463912d04d973331ad4851f04de6915a"
   }
  }
 },
 "nbformat": 4,
 "nbformat_minor": 2
}
