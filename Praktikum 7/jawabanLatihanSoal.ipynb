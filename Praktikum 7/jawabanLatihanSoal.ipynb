{
 "cells": [
  {
   "cell_type": "code",
   "execution_count": 14,
   "id": "2021d17d-3298-4555-bc6c-a18c7bae1a27",
   "metadata": {},
   "outputs": [
    {
     "name": "stdin",
     "output_type": "stream",
     "text": [
      "Masukkan Angka :  8\n",
      "Masukkan Angka :  7\n",
      "Masukkan Angka :  6\n"
     ]
    }
   ],
   "source": [
    "a = int(input(\"Masukkan Angka : \"))\n",
    "b = int(input(\"Masukkan Angka : \"))\n",
    "c = int(input(\"Masukkan Angka : \"))"
   ]
  },
  {
   "cell_type": "code",
   "execution_count": 15,
   "id": "a3ad0ec8-25ad-4a95-80b4-5778bfc73290",
   "metadata": {},
   "outputs": [],
   "source": [
    "import math"
   ]
  },
  {
   "cell_type": "code",
   "execution_count": 16,
   "id": "350a7331-ae6b-4f40-88bb-39163b096063",
   "metadata": {},
   "outputs": [],
   "source": [
    "luas = lambda p,q,r: math.sqrt(((p+q+r)/2)*((p+q+r)/2 - p)*((p+q+r)/2-q)*((p+q+r)/2-r))"
   ]
  },
  {
   "cell_type": "code",
   "execution_count": 17,
   "id": "e7bf828a-523e-496d-883f-615aa347b1e7",
   "metadata": {},
   "outputs": [
    {
     "data": {
      "text/plain": [
       "20.33"
      ]
     },
     "execution_count": 17,
     "metadata": {},
     "output_type": "execute_result"
    }
   ],
   "source": [
    "round(luas(a,b,c),2)"
   ]
  },
  {
   "cell_type": "code",
   "execution_count": null,
   "id": "271fec24-d257-4cdd-a503-6fa79d307469",
   "metadata": {},
   "outputs": [],
   "source": []
  }
 ],
 "metadata": {
  "kernelspec": {
   "display_name": "Python 3 (ipykernel)",
   "language": "python",
   "name": "python3"
  },
  "language_info": {
   "codemirror_mode": {
    "name": "ipython",
    "version": 3
   },
   "file_extension": ".py",
   "mimetype": "text/x-python",
   "name": "python",
   "nbconvert_exporter": "python",
   "pygments_lexer": "ipython3",
   "version": "3.10.8"
  }
 },
 "nbformat": 4,
 "nbformat_minor": 5
}
