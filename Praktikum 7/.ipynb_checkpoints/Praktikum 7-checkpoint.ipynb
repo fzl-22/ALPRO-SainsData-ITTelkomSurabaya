{
 "cells": [
  {
   "cell_type": "code",
   "execution_count": null,
   "id": "c141f13f-2e6a-4780-ba52-bdfad92102d7",
   "metadata": {},
   "outputs": [],
   "source": [
    "def lulusOrNot(nilai):\n",
    "    if nilai >= 75:\n",
    "        print(\"A\")\n",
    "    elif nilai < 75 and nilai >= 50:\n",
    "        print(\"B\")\n",
    "    else:\n",
    "        print(\"Pulang Aja\")\n",
    "\n",
    "def lulusOrNot(nilai):\n",
    "    if nilai >= 75:\n",
    "        print(\"A\")\n",
    "    else:\n",
    "        if nilai < 75 and nilai >= 50:\n",
    "            print(\"B\")\n",
    "        else:\n",
    "            print(\"Pulang Aja\")"
   ]
  },
  {
   "cell_type": "code",
   "execution_count": 4,
   "id": "257234a0-9a2b-4ea6-b8a5-0f44c80299d0",
   "metadata": {},
   "outputs": [
    {
     "name": "stdout",
     "output_type": "stream",
     "text": [
      "B\n"
     ]
    }
   ],
   "source": [
    "lulusOrNot = lambda nilai : print(\"A\") if nilai >= 75 else (print(\"B\") if nilai < 75 and nilai >= 50 else print(\"Pulang Aja\"))\n",
    "\n",
    "lulusOrNot(60)"
   ]
  },
  {
   "cell_type": "code",
   "execution_count": 14,
   "id": "e0502d50-6b2f-44d5-a461-65c3da08eb1a",
   "metadata": {},
   "outputs": [
    {
     "name": "stdout",
     "output_type": "stream",
     "text": [
      "Nilai tidak valid\n",
      "None\n"
     ]
    }
   ],
   "source": [
    "lulusOrNot = lambda nilai : print(\"A\") if nilai <= 100 and nilai > 80 else (print(\"B\") if nilai <= 80 and nilai > 60 else (print(\"C\") if nilai <= 60 and nilai > 20 else (print(\"D\" if nilai <= 20 and nilai > 0 else (print(\"Mending pulang deck!\") if nilai == 0 else print(\"Nilai tidak valid\"))))))\n",
    "\n",
    "nilaiFaisal = 102\n",
    "lulusOrNot(nilaiFaisal)\n"
   ]
  },
  {
   "cell_type": "code",
   "execution_count": 18,
   "id": "8e2916da-bd8b-42f6-af57-1fd10f74f0f8",
   "metadata": {},
   "outputs": [
    {
     "name": "stdout",
     "output_type": "stream",
     "text": [
      "HI MAHASISWA DATA SCIENCE YANG BERBAHAGIA\n",
      "HI MAHASISWA DATA SCIENCE YANG BERBAHAGIA\n"
     ]
    }
   ],
   "source": [
    "Kalimat = \"Hi Mahasiswa Data Science yang Berbahagia\"\n",
    "print(Kalimat.upper())\n",
    "Kalimat = Kalimat.upper()\n",
    "print(Kalimat)"
   ]
  },
  {
   "cell_type": "code",
   "execution_count": 19,
   "id": "576b18c4-f840-4b50-9610-7ba13e62b9f6",
   "metadata": {},
   "outputs": [
    {
     "name": "stdout",
     "output_type": "stream",
     "text": [
      "False\n"
     ]
    }
   ],
   "source": [
    "print(Kalimat.islower())"
   ]
  },
  {
   "cell_type": "code",
   "execution_count": 21,
   "id": "338181e8-0b57-4f98-9e8b-bd5f2c7e1183",
   "metadata": {},
   "outputs": [
    {
     "name": "stdout",
     "output_type": "stream",
     "text": [
      "hi mahasiswa data science yang berbahagia\n"
     ]
    }
   ],
   "source": [
    "if Kalimat.islower() == False:\n",
    "    Kalimat = Kalimat.lower()\n",
    "print(Kalimat)"
   ]
  },
  {
   "cell_type": "code",
   "execution_count": 23,
   "id": "ab4c01aa-1007-45f6-a729-b6af8fd9d939",
   "metadata": {},
   "outputs": [
    {
     "name": "stdout",
     "output_type": "stream",
     "text": [
      "False\n"
     ]
    }
   ],
   "source": [
    "Kalimat = Kalimat.upper()\n",
    "print(Kalimat.isalpha())"
   ]
  },
  {
   "cell_type": "code",
   "execution_count": null,
   "id": "e2c69a98-9ed6-4501-820a-c0d245a16b76",
   "metadata": {},
   "outputs": [],
   "source": []
  },
  {
   "cell_type": "code",
   "execution_count": null,
   "id": "a18fc922-37c3-4e57-91b7-3477bcf9bc79",
   "metadata": {},
   "outputs": [],
   "source": []
  },
  {
   "cell_type": "code",
   "execution_count": null,
   "id": "c9ab77fd-fdad-4d34-b52b-04779d1c302b",
   "metadata": {},
   "outputs": [],
   "source": []
  },
  {
   "cell_type": "code",
   "execution_count": null,
   "id": "2f0c063d-fab1-4a54-bf3f-0464ae93d8b5",
   "metadata": {},
   "outputs": [],
   "source": []
  }
 ],
 "metadata": {
  "kernelspec": {
   "display_name": "Python 3 (ipykernel)",
   "language": "python",
   "name": "python3"
  },
  "language_info": {
   "codemirror_mode": {
    "name": "ipython",
    "version": 3
   },
   "file_extension": ".py",
   "mimetype": "text/x-python",
   "name": "python",
   "nbconvert_exporter": "python",
   "pygments_lexer": "ipython3",
   "version": "3.10.8"
  }
 },
 "nbformat": 4,
 "nbformat_minor": 5
}
