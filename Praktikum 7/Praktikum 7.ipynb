{
 "cells": [
  {
   "cell_type": "code",
   "execution_count": null,
   "id": "c141f13f-2e6a-4780-ba52-bdfad92102d7",
   "metadata": {},
   "outputs": [],
   "source": [
    "def lulusOrNot(nilai):\n",
    "    if nilai >= 75:\n",
    "        print(\"A\")\n",
    "    elif nilai < 75 and nilai >= 50:\n",
    "        print(\"B\")\n",
    "    else:\n",
    "        print(\"Pulang Aja\")\n",
    "\n",
    "def lulusOrNot(nilai):\n",
    "    if nilai >= 75:\n",
    "        print(\"A\")\n",
    "    else:\n",
    "        if nilai < 75 and nilai >= 50:\n",
    "            print(\"B\")\n",
    "        else:\n",
    "            print(\"Pulang Aja\")"
   ]
  },
  {
   "cell_type": "code",
   "execution_count": 4,
   "id": "257234a0-9a2b-4ea6-b8a5-0f44c80299d0",
   "metadata": {},
   "outputs": [
    {
     "name": "stdout",
     "output_type": "stream",
     "text": [
      "B\n"
     ]
    }
   ],
   "source": [
    "lulusOrNot = lambda nilai : print(\"A\") if nilai >= 75 else (print(\"B\") if nilai < 75 and nilai >= 50 else print(\"Pulang Aja\"))\n",
    "\n",
    "lulusOrNot(60)"
   ]
  },
  {
   "cell_type": "code",
   "execution_count": 14,
   "id": "e0502d50-6b2f-44d5-a461-65c3da08eb1a",
   "metadata": {},
   "outputs": [
    {
     "name": "stdout",
     "output_type": "stream",
     "text": [
      "Nilai tidak valid\n",
      "None\n"
     ]
    }
   ],
   "source": [
    "lulusOrNot = lambda nilai : print(\"A\") if nilai <= 100 and nilai > 80 else (print(\"B\") if nilai <= 80 and nilai > 60 else (print(\"C\") if nilai <= 60 and nilai > 20 else (print(\"D\" if nilai <= 20 and nilai > 0 else (print(\"Mending pulang deck!\") if nilai == 0 else print(\"Nilai tidak valid\"))))))\n",
    "\n",
    "nilaiFaisal = 102\n",
    "lulusOrNot(nilaiFaisal)\n"
   ]
  },
  {
   "cell_type": "code",
   "execution_count": 41,
   "id": "8e2916da-bd8b-42f6-af57-1fd10f74f0f8",
   "metadata": {},
   "outputs": [],
   "source": [
    "Kalimat = \"Hi Mahasiswa DataScience yang Berbahagia\""
   ]
  },
  {
   "cell_type": "code",
   "execution_count": null,
   "id": "e9fc153b-aa3f-4a88-80ef-f5e82a7b5ef3",
   "metadata": {},
   "outputs": [],
   "source": []
  },
  {
   "cell_type": "code",
   "execution_count": 46,
   "id": "52077c1c-0869-4383-9e5f-86c78704ec6e",
   "metadata": {},
   "outputs": [
    {
     "data": {
      "text/plain": [
       "9"
      ]
     },
     "execution_count": 46,
     "metadata": {},
     "output_type": "execute_result"
    }
   ],
   "source": [
    "len(\"Mahasiswa\")"
   ]
  },
  {
   "cell_type": "code",
   "execution_count": 50,
   "id": "5ddeb018-1926-4c17-82a0-c14f4a333805",
   "metadata": {},
   "outputs": [
    {
     "ename": "SyntaxError",
     "evalue": "invalid syntax. Perhaps you forgot a comma? (2319517324.py, line 1)",
     "output_type": "error",
     "traceback": [
      "\u001b[0;36m  Cell \u001b[0;32mIn[50], line 1\u001b[0;36m\u001b[0m\n\u001b[0;31m    print(\"{Kalimat.find(\"Mahasiswa\")} {Kalimat.find(\"Mahasiswa\") + len(\"Mahasiswa\")}\")\u001b[0m\n\u001b[0m          ^\u001b[0m\n\u001b[0;31mSyntaxError\u001b[0m\u001b[0;31m:\u001b[0m invalid syntax. Perhaps you forgot a comma?\n"
     ]
    }
   ],
   "source": [
    "print(\"{} {Kalimat.find(\"Mahasiswa\") + len(\"Mahasiswa\")}\")"
   ]
  },
  {
   "cell_type": "code",
   "execution_count": 52,
   "id": "a0b86987-89c0-4e64-9390-4f0ed7d85d44",
   "metadata": {},
   "outputs": [
    {
     "name": "stdout",
     "output_type": "stream",
     "text": [
      "3 12\n"
     ]
    }
   ],
   "source": [
    "print(\"{} {}\".format(Kalimat.find('Mahasiswa'), Kalimat.find(\"Mahasiswa\") + len(\"Mahasiswa\")))"
   ]
  },
  {
   "cell_type": "code",
   "execution_count": 53,
   "id": "bd8817dd-d3a8-4d29-839e-342f5d697740",
   "metadata": {},
   "outputs": [
    {
     "data": {
      "text/plain": [
       "'Mahasiswa'"
      ]
     },
     "execution_count": 53,
     "metadata": {},
     "output_type": "execute_result"
    }
   ],
   "source": [
    "Kalimat[3:12]"
   ]
  },
  {
   "cell_type": "code",
   "execution_count": 60,
   "id": "f9ae51ac-700e-456b-a59f-f8a2f16d0065",
   "metadata": {},
   "outputs": [],
   "source": [
    "import math"
   ]
  },
  {
   "cell_type": "code",
   "execution_count": 61,
   "id": "e3d22bd3-1fcf-4074-8afa-9dfeefbae7ec",
   "metadata": {},
   "outputs": [
    {
     "name": "stdout",
     "output_type": "stream",
     "text": [
      "2.0\n"
     ]
    }
   ],
   "source": [
    "print(math.sqrt(4))"
   ]
  },
  {
   "cell_type": "code",
   "execution_count": 62,
   "id": "b293c156-aaad-4603-8587-0caa4fe7f880",
   "metadata": {},
   "outputs": [
    {
     "name": "stdout",
     "output_type": "stream",
     "text": [
      "5.12\n"
     ]
    }
   ],
   "source": [
    "print(round(5.1234,2))"
   ]
  },
  {
   "cell_type": "code",
   "execution_count": null,
   "id": "61bf801f-4be2-4df5-bef8-2996459b8ec0",
   "metadata": {},
   "outputs": [],
   "source": []
  },
  {
   "cell_type": "code",
   "execution_count": null,
   "id": "cb69839e-e1dc-4bc6-a07d-c47a637ad609",
   "metadata": {},
   "outputs": [],
   "source": []
  },
  {
   "cell_type": "code",
   "execution_count": null,
   "id": "6742eea5-ed10-4dc9-9293-d78cf307e6bc",
   "metadata": {},
   "outputs": [],
   "source": []
  },
  {
   "cell_type": "code",
   "execution_count": null,
   "id": "0bc37df9-ef03-4981-95fb-f9425d4294d4",
   "metadata": {},
   "outputs": [],
   "source": []
  },
  {
   "cell_type": "code",
   "execution_count": 19,
   "id": "576b18c4-f840-4b50-9610-7ba13e62b9f6",
   "metadata": {},
   "outputs": [
    {
     "name": "stdout",
     "output_type": "stream",
     "text": [
      "False\n"
     ]
    }
   ],
   "source": [
    "print(Kalimat.islower())"
   ]
  },
  {
   "cell_type": "code",
   "execution_count": 21,
   "id": "338181e8-0b57-4f98-9e8b-bd5f2c7e1183",
   "metadata": {},
   "outputs": [
    {
     "name": "stdout",
     "output_type": "stream",
     "text": [
      "hi mahasiswa data science yang berbahagia\n"
     ]
    }
   ],
   "source": [
    "if Kalimat.islower() == False:\n",
    "    Kalimat = Kalimat.lower()\n",
    "print(Kalimat)"
   ]
  },
  {
   "cell_type": "code",
   "execution_count": 36,
   "id": "ab4c01aa-1007-45f6-a729-b6af8fd9d939",
   "metadata": {},
   "outputs": [
    {
     "name": "stdout",
     "output_type": "stream",
     "text": [
      "True\n"
     ]
    }
   ],
   "source": [
    "print(Kalimat.isalpha())"
   ]
  },
  {
   "cell_type": "code",
   "execution_count": null,
   "id": "91b78863-eeb3-4b8c-bee2-08aa89ce48b9",
   "metadata": {},
   "outputs": [],
   "source": []
  },
  {
   "cell_type": "code",
   "execution_count": 35,
   "id": "2d39660f-6a18-496f-80c6-cd534b7ac1bf",
   "metadata": {},
   "outputs": [
    {
     "name": "stdout",
     "output_type": "stream",
     "text": [
      "True\n"
     ]
    }
   ],
   "source": [
    "print(Kalimat.isalnum())"
   ]
  },
  {
   "cell_type": "code",
   "execution_count": null,
   "id": "745fff4f-9f26-4394-9a5c-7fb8c2c3b5cb",
   "metadata": {},
   "outputs": [],
   "source": []
  },
  {
   "cell_type": "code",
   "execution_count": null,
   "id": "28f4a34e-a1dd-4cbe-a22f-3d564f72fb95",
   "metadata": {},
   "outputs": [],
   "source": []
  },
  {
   "cell_type": "code",
   "execution_count": null,
   "id": "c5ac93fb-e23f-4c23-964a-93e311aa8de9",
   "metadata": {},
   "outputs": [],
   "source": []
  },
  {
   "cell_type": "code",
   "execution_count": null,
   "id": "13ab94af-da12-4755-b324-83d020e4ed7c",
   "metadata": {},
   "outputs": [],
   "source": []
  },
  {
   "cell_type": "code",
   "execution_count": null,
   "id": "c295b081-6657-43db-88fe-53d74345fc94",
   "metadata": {},
   "outputs": [],
   "source": []
  },
  {
   "cell_type": "code",
   "execution_count": null,
   "id": "10481998-cb40-47cb-b776-b0b16fecc6bb",
   "metadata": {},
   "outputs": [],
   "source": []
  },
  {
   "cell_type": "code",
   "execution_count": null,
   "id": "91741a2e-082f-4a71-b2d3-226b4627269f",
   "metadata": {},
   "outputs": [],
   "source": []
  },
  {
   "cell_type": "code",
   "execution_count": null,
   "id": "a72d6f23-9163-44b6-b1f1-499f938124d0",
   "metadata": {},
   "outputs": [],
   "source": []
  },
  {
   "cell_type": "code",
   "execution_count": null,
   "id": "e2c69a98-9ed6-4501-820a-c0d245a16b76",
   "metadata": {},
   "outputs": [],
   "source": []
  },
  {
   "cell_type": "code",
   "execution_count": null,
   "id": "a18fc922-37c3-4e57-91b7-3477bcf9bc79",
   "metadata": {},
   "outputs": [],
   "source": []
  },
  {
   "cell_type": "code",
   "execution_count": null,
   "id": "c9ab77fd-fdad-4d34-b52b-04779d1c302b",
   "metadata": {},
   "outputs": [],
   "source": []
  },
  {
   "cell_type": "code",
   "execution_count": null,
   "id": "2f0c063d-fab1-4a54-bf3f-0464ae93d8b5",
   "metadata": {},
   "outputs": [],
   "source": []
  }
 ],
 "metadata": {
  "kernelspec": {
   "display_name": "Python 3 (ipykernel)",
   "language": "python",
   "name": "python3"
  },
  "language_info": {
   "codemirror_mode": {
    "name": "ipython",
    "version": 3
   },
   "file_extension": ".py",
   "mimetype": "text/x-python",
   "name": "python",
   "nbconvert_exporter": "python",
   "pygments_lexer": "ipython3",
   "version": "3.10.8"
  }
 },
 "nbformat": 4,
 "nbformat_minor": 5
}
