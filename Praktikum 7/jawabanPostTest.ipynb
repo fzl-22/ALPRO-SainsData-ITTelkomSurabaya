{
 "cells": [
  {
   "cell_type": "code",
   "execution_count": null,
   "id": "b49656f7-455a-41d3-b567-0997bc66e9ae",
   "metadata": {},
   "outputs": [],
   "source": [
    "print()\n",
    "kalimat = input(\"Masukkan kalimat Boruto: \")\n",
    "alfabet = 'abcdefghijklmnopqrstuvwxyz'\n",
    "\n",
    "checkChar = lambda i : print(\"Huruf\", i, \"sejumlah\", kalimat.count(i), \"buah\") if kalimat.count(i) != 0 else print(end=\"\")\n",
    "\n",
    "kalimat = kalimat.lower()\n",
    "for i in alfabet:\n",
    "    checkChar(i)\n"
   ]
  }
 ],
 "metadata": {
  "kernelspec": {
   "display_name": "Python 3 (ipykernel)",
   "language": "python",
   "name": "python3"
  },
  "language_info": {
   "codemirror_mode": {
    "name": "ipython",
    "version": 3
   },
   "file_extension": ".py",
   "mimetype": "text/x-python",
   "name": "python",
   "nbconvert_exporter": "python",
   "pygments_lexer": "ipython3",
   "version": "3.10.8"
  }
 },
 "nbformat": 4,
 "nbformat_minor": 5
}
