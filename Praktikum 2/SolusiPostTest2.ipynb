{
 "cells": [
  {
   "cell_type": "markdown",
   "metadata": {},
   "source": [
    "# Post Test Praktikum 2"
   ]
  },
  {
   "cell_type": "code",
   "execution_count": 1,
   "metadata": {},
   "outputs": [],
   "source": [
    "number = int(input(\"Masukkan sebuah bilangan: \"))\n",
    "oneth = int(number % 10)\n",
    "tenth = int(((number % 100) - (number % 10))/(10))\n",
    "hundredth = int((number % 1000 - number % 100)/(100))\n",
    "thousandth = int((number % 10000 - number % 1000)/(1000))"
   ]
  },
  {
   "cell_type": "code",
   "execution_count": 2,
   "metadata": {},
   "outputs": [
    {
     "name": "stdout",
     "output_type": "stream",
     "text": [
      "Bilangan tersebut adalah bilangan Bravo.\n"
     ]
    }
   ],
   "source": [
    "sumDigits = oneth + tenth + hundredth + thousandth\n",
    "if oneth == 0  or tenth == 0 or hundredth == 0 or thousandth == 0:\n",
    "    print(\"Bilangan tersebut adalah bilangan biasa.\")\n",
    "else:\n",
    "    if sumDigits % oneth == 0 and sumDigits % tenth == 0 and sumDigits % hundredth == 0 and sumDigits % thousandth == 0:\n",
    "        print(\"Bilangan tersebut adalah bilangan Bravo.\")\n",
    "    else:\n",
    "        print(\"Bilangan tersebut adalah bilangan biasa.\")"
   ]
  }
 ],
 "metadata": {
  "kernelspec": {
   "display_name": "Python 3.10.8 64-bit",
   "language": "python",
   "name": "python3"
  },
  "language_info": {
   "codemirror_mode": {
    "name": "ipython",
    "version": 3
   },
   "file_extension": ".py",
   "mimetype": "text/x-python",
   "name": "python",
   "nbconvert_exporter": "python",
   "pygments_lexer": "ipython3",
   "version": "3.10.8"
  },
  "orig_nbformat": 4,
  "vscode": {
   "interpreter": {
    "hash": "e7370f93d1d0cde622a1f8e1c04877d8463912d04d973331ad4851f04de6915a"
   }
  }
 },
 "nbformat": 4,
 "nbformat_minor": 2
}
