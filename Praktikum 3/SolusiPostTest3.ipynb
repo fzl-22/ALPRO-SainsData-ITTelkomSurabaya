{
 "cells": [
  {
   "cell_type": "markdown",
   "metadata": {},
   "source": [
    "# Post Test Praktikum 3\n",
    "\n",
    "* Soal 1. Apakah Kabisat\n",
    "* Soal 2. Sangat Kabisat"
   ]
  },
  {
   "cell_type": "markdown",
   "metadata": {},
   "source": [
    "### Soal 1. Apakah Kabisat"
   ]
  },
  {
   "cell_type": "code",
   "execution_count": 1,
   "metadata": {},
   "outputs": [
    {
     "name": "stdout",
     "output_type": "stream",
     "text": [
      "Masukkan bulan dan tahun: \n",
      "Banyak hari pada bulan ke-2 tahun 1896 adalah 29\n"
     ]
    }
   ],
   "source": [
    "print(\"Masukkan bulan dan tahun: \")\n",
    "bulan = int(input(\"Bulan: \"))\n",
    "tahun = int(input(\"Tahun: \"))\n",
    "\n",
    "banyak_hari = 0\n",
    "if bulan == 1 or bulan == 3 or bulan == 5 or bulan == 7 or bulan == 8 or bulan == 10 or bulan == 12:\n",
    "    banyak_hari = 31\n",
    "elif bulan == 4 or bulan == 6 or bulan == 9 or bulan == 11:\n",
    "    banyak_hari = 30\n",
    "elif bulan == 2:\n",
    "    if tahun % 400 == 0 or (tahun % 4 == 0 and tahun % 100 != 0):\n",
    "        banyak_hari = 29\n",
    "    else:\n",
    "        banyak_hari = 28\n",
    "        \n",
    "print(\"Banyak hari pada bulan ke-{} tahun {} adalah {}\".format(bulan, tahun, banyak_hari))"
   ]
  },
  {
   "cell_type": "markdown",
   "metadata": {},
   "source": [
    "### Soal 2. Sangat Kabisat"
   ]
  },
  {
   "cell_type": "code",
   "execution_count": 9,
   "metadata": {},
   "outputs": [
    {
     "name": "stdout",
     "output_type": "stream",
     "text": [
      "10\n",
      "kabisat biasa\n"
     ]
    }
   ],
   "source": [
    "tahun = int(input(\"Masukkan tahun: \"))\n",
    "tahun_string = str(tahun) # Solusi menggunakan casting ke string\n",
    "\n",
    "sum_digit = int(tahun_string[0]) + int(tahun_string[1]) + int(tahun_string[2]) + int(tahun_string[3]) # Penjumlahan setiap digit,\n",
    "\n",
    "if tahun % 400 == 0 or (tahun % 4 == 0 and tahun % 100 != 0):\n",
    "    if sum_digit % 400 == 0 or (sum_digit % 4 == 0 and sum_digit % 100 != 0):\n",
    "        print(\"sangat kabisat\")\n",
    "    else:\n",
    "        print(\"kabisat biasa\")\n",
    "else:\n",
    "    print(\"tahun biasa\")"
   ]
  },
  {
   "cell_type": "markdown",
   "metadata": {},
   "source": [
    "_Catatan: sebagai latihan, coba kerjakan soal 2 dengan menggunakan div atau mod_"
   ]
  }
 ],
 "metadata": {
  "kernelspec": {
   "display_name": "Python 3.10.8 64-bit",
   "language": "python",
   "name": "python3"
  },
  "language_info": {
   "codemirror_mode": {
    "name": "ipython",
    "version": 3
   },
   "file_extension": ".py",
   "mimetype": "text/x-python",
   "name": "python",
   "nbconvert_exporter": "python",
   "pygments_lexer": "ipython3",
   "version": "3.10.8"
  },
  "orig_nbformat": 4,
  "vscode": {
   "interpreter": {
    "hash": "e7370f93d1d0cde622a1f8e1c04877d8463912d04d973331ad4851f04de6915a"
   }
  }
 },
 "nbformat": 4,
 "nbformat_minor": 2
}
